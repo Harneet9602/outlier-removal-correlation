{
 "cells": [
  {
   "cell_type": "code",
   "execution_count": 1,
   "id": "74bf5643-4a3e-448d-a782-cdcfde73bc5b",
   "metadata": {},
   "outputs": [
    {
     "ename": "ImportError",
     "evalue": "cannot import name 'linregression' from 'scipy.stats' (C:\\Users\\harne\\anaconda3\\Lib\\site-packages\\scipy\\stats\\__init__.py)",
     "output_type": "error",
     "traceback": [
      "\u001b[1;31m---------------------------------------------------------------------------\u001b[0m",
      "\u001b[1;31mImportError\u001b[0m                               Traceback (most recent call last)",
      "Cell \u001b[1;32mIn[1], line 5\u001b[0m\n\u001b[0;32m      3\u001b[0m \u001b[38;5;28;01mimport\u001b[39;00m \u001b[38;5;21;01mmatplotlib\u001b[39;00m\u001b[38;5;21;01m.\u001b[39;00m\u001b[38;5;21;01mpyplot\u001b[39;00m \u001b[38;5;28;01mas\u001b[39;00m \u001b[38;5;21;01mplt\u001b[39;00m\n\u001b[0;32m      4\u001b[0m \u001b[38;5;28;01mimport\u001b[39;00m \u001b[38;5;21;01mseaborn\u001b[39;00m \u001b[38;5;28;01mas\u001b[39;00m \u001b[38;5;21;01msns\u001b[39;00m\n\u001b[1;32m----> 5\u001b[0m \u001b[38;5;28;01mfrom\u001b[39;00m \u001b[38;5;21;01mscipy\u001b[39;00m\u001b[38;5;21;01m.\u001b[39;00m\u001b[38;5;21;01mstats\u001b[39;00m \u001b[38;5;28;01mimport\u001b[39;00m linregression\n",
      "\u001b[1;31mImportError\u001b[0m: cannot import name 'linregression' from 'scipy.stats' (C:\\Users\\harne\\anaconda3\\Lib\\site-packages\\scipy\\stats\\__init__.py)"
     ]
    }
   ],
   "source": [
    "import pandas as pd\n",
    "import numpy as np\n",
    "import matplotlib.pyplot as plt\n",
    "import seaborn as sns\n",
    "from scipy.stats import linregression"
   ]
  },
  {
   "cell_type": "code",
   "execution_count": null,
   "id": "928497ef-95f2-4ffe-9688-e886215b8f97",
   "metadata": {},
   "outputs": [],
   "source": [
    "df = pd.read_csv(\"sat-data.csv\")\n",
    "df"
   ]
  },
  {
   "cell_type": "code",
   "execution_count": null,
   "id": "129ba749-7886-4045-ba2b-80ec225908b4",
   "metadata": {},
   "outputs": [],
   "source": [
    "corr = df['SAT'].corr(df['GPA'])\n",
    "print(f\"\\nInitial Correlation between SAT and GPA: {corr:.4f}\")"
   ]
  },
  {
   "cell_type": "code",
   "execution_count": null,
   "id": "ce09e455-1de8-4f7e-8cc5-529d235c0df6",
   "metadata": {},
   "outputs": [],
   "source": [
    "slope, intercept, r_value, p_value, std_err = linregress(df['SAT'], df['GPA'])\n",
    "print(f\"\\nInitial Linear Regression Equation: GPA = {slope:.4f} * SAT + {intercept:.4f}\")"
   ]
  },
  {
   "cell_type": "code",
   "execution_count": null,
   "id": "bb66e3d6-2907-45b6-bd3e-79cbda70a7cf",
   "metadata": {},
   "outputs": [],
   "source": [
    "# Outlier Detection using IQR Method\n",
    "Q1 = df.quantile(0.25)\n",
    "Q3 = df.quantile(0.75)\n",
    "IQR = Q3 - Q1\n",
    "lower_bound = Q1 - 1.5 * IQR\n",
    "upper_bound = Q3 + 1.5 * IQR\n",
    "df_clean = df[~((df < lower_bound) | (df > upper_bound)).any(axis=1)]\n",
    "\n",
    "correlation_clean = df_clean['SAT'].corr(df_clean['GPA'])\n",
    "print(\"\\nCorrelation after outlier removal:\", correlation_clean)"
   ]
  },
  {
   "cell_type": "code",
   "execution_count": null,
   "id": "850bc054-bef2-4d93-b985-4c565cda5370",
   "metadata": {},
   "outputs": [],
   "source": [
    "# Linear Regression again\n",
    "slope_clean, intercept_clean, r_value_clean, p_value_clean, std_err_clean = linregress(df_clean['SAT'], df_clean['GPA'])\n",
    "print(f\"\\nFinal Linear Regression Equation after outlier removal: GPA = {slope_clean:.4f} * SAT + {intercept_clean:.4f}\")\n"
   ]
  },
  {
   "cell_type": "code",
   "execution_count": null,
   "id": "209d4bd8-28a4-45ea-92ab-4805afa2a58e",
   "metadata": {},
   "outputs": [],
   "source": [
    "# Plot data before and after outlier removal\n",
    "fig, ax = plt.subplots(1, 2, figsize=(12, 5))\n",
    "sns.regplot(x=df['SAT'], y=df['GPA'], ax=ax[0], line_kws={'color': 'red'})\n",
    "ax[0].set_title(\"Before Outlier Removal\")\n",
    "ax[0].set_xlabel(\"SAT\")\n",
    "ax[0].set_ylabel(\"GPA\")\n",
    "# Scatter plot after outlier removal\n",
    "sns.regplot(x=df_clean['SAT'], y=df_clean['GPA'], ax=ax[1], line_kws={'color': 'blue'})\n",
    "ax[1].set_title(\"After Outlier Removal\")\n",
    "ax[1].set_xlabel(\"SAT\")\n",
    "ax[1].set_ylabel(\"GPA\")\n",
    "plt.show()\n",
    "                                                                      "
   ]
  },
  {
   "cell_type": "markdown",
   "id": "c59d7fd9-cd6f-431b-8c80-914dc7f4f515",
   "metadata": {},
   "source": [
    "### Removing outliers has improved the relationship between SAT and GPA. The regression line is now more consistent, and the analysis is less affected by extreme values."
   ]
  },
  {
   "cell_type": "code",
   "execution_count": null,
   "id": "1698acd9-b7b5-4066-be3c-be9896bff547",
   "metadata": {},
   "outputs": [],
   "source": []
  }
 ],
 "metadata": {
  "kernelspec": {
   "display_name": "Python 3 (ipykernel)",
   "language": "python",
   "name": "python3"
  },
  "language_info": {
   "codemirror_mode": {
    "name": "ipython",
    "version": 3
   },
   "file_extension": ".py",
   "mimetype": "text/x-python",
   "name": "python",
   "nbconvert_exporter": "python",
   "pygments_lexer": "ipython3",
   "version": "3.11.7"
  }
 },
 "nbformat": 4,
 "nbformat_minor": 5
}
